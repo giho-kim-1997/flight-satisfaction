{
 "cells": [
  {
   "cell_type": "code",
   "execution_count": 1,
   "metadata": {},
   "outputs": [],
   "source": [
    "import pandas as pd\n",
    "import matplotlib.pyplot as plt\n",
    "import numpy as np\n",
    "from sklearn.linear_model import LogisticRegression\n",
    "from statsmodels.formula.api import logit\n",
    "import statsmodels.api as sm\n",
    "from sklearn.metrics import confusion_matrix\n",
    "from sklearn.model_selection import KFold, cross_val_score\n",
    "from scipy import stats\n",
    "import statsmodels.formula.api as smf\n",
    "import scipy\n",
    "from scipy.cluster.hierarchy import dendrogram, linkage"
   ]
  },
  {
   "cell_type": "code",
   "execution_count": 96,
   "metadata": {},
   "outputs": [],
   "source": [
    "from sklearn.linear_model import LinearRegression\n",
    "from sklearn.preprocessing import FunctionTransformer\n",
    "from sklearn.preprocessing import OneHotEncoder\n",
    "from sklearn.pipeline import Pipeline\n",
    "from sklearn.compose import ColumnTransformer\n",
    "\n",
    "from sklearn.tree import DecisionTreeRegressor\n",
    "from sklearn.model_selection import train_test_split\n",
    "from sklearn.neighbors import KNeighborsRegressor\n",
    "from sklearn.model_selection import train_test_split\n",
    "from sklearn.tree import DecisionTreeClassifier\n",
    "from sklearn.neighbors import KNeighborsClassifier\n",
    "\n",
    "from sklearn.linear_model import LinearRegression\n",
    "import sklearn as sk"
   ]
  },
  {
   "cell_type": "code",
   "execution_count": 3,
   "metadata": {},
   "outputs": [],
   "source": [
    "first_csv = pd.read_csv(\"test.csv\")\n",
    "second_csv = pd.read_csv(\"train.csv\")"
   ]
  },
  {
   "cell_type": "code",
   "execution_count": 4,
   "metadata": {},
   "outputs": [],
   "source": [
    "satisfaction = pd.concat([first_csv, second_csv])"
   ]
  },
  {
   "cell_type": "code",
   "execution_count": 5,
   "metadata": {},
   "outputs": [],
   "source": [
    "satisfaction.to_csv('flight_satisfaction.csv')"
   ]
  },
  {
   "cell_type": "code",
   "execution_count": 6,
   "metadata": {},
   "outputs": [
    {
     "data": {
      "text/html": [
       "<div>\n",
       "<style scoped>\n",
       "    .dataframe tbody tr th:only-of-type {\n",
       "        vertical-align: middle;\n",
       "    }\n",
       "\n",
       "    .dataframe tbody tr th {\n",
       "        vertical-align: top;\n",
       "    }\n",
       "\n",
       "    .dataframe thead th {\n",
       "        text-align: right;\n",
       "    }\n",
       "</style>\n",
       "<table border=\"1\" class=\"dataframe\">\n",
       "  <thead>\n",
       "    <tr style=\"text-align: right;\">\n",
       "      <th></th>\n",
       "      <th>index</th>\n",
       "      <th>id</th>\n",
       "      <th>Gender</th>\n",
       "      <th>Customer Type</th>\n",
       "      <th>Age</th>\n",
       "      <th>Type of Travel</th>\n",
       "      <th>Class</th>\n",
       "      <th>Flight Distance</th>\n",
       "    </tr>\n",
       "  </thead>\n",
       "  <tbody>\n",
       "    <tr>\n",
       "      <th>0</th>\n",
       "      <td>0</td>\n",
       "      <td>19556</td>\n",
       "      <td>Female</td>\n",
       "      <td>Loyal Customer</td>\n",
       "      <td>52</td>\n",
       "      <td>Business travel</td>\n",
       "      <td>Eco</td>\n",
       "      <td>160</td>\n",
       "    </tr>\n",
       "    <tr>\n",
       "      <th>1</th>\n",
       "      <td>1</td>\n",
       "      <td>90035</td>\n",
       "      <td>Female</td>\n",
       "      <td>Loyal Customer</td>\n",
       "      <td>36</td>\n",
       "      <td>Business travel</td>\n",
       "      <td>Business</td>\n",
       "      <td>2863</td>\n",
       "    </tr>\n",
       "    <tr>\n",
       "      <th>2</th>\n",
       "      <td>2</td>\n",
       "      <td>12360</td>\n",
       "      <td>Male</td>\n",
       "      <td>disloyal Customer</td>\n",
       "      <td>20</td>\n",
       "      <td>Business travel</td>\n",
       "      <td>Eco</td>\n",
       "      <td>192</td>\n",
       "    </tr>\n",
       "    <tr>\n",
       "      <th>3</th>\n",
       "      <td>3</td>\n",
       "      <td>77959</td>\n",
       "      <td>Male</td>\n",
       "      <td>Loyal Customer</td>\n",
       "      <td>44</td>\n",
       "      <td>Business travel</td>\n",
       "      <td>Business</td>\n",
       "      <td>3377</td>\n",
       "    </tr>\n",
       "    <tr>\n",
       "      <th>4</th>\n",
       "      <td>4</td>\n",
       "      <td>36875</td>\n",
       "      <td>Female</td>\n",
       "      <td>Loyal Customer</td>\n",
       "      <td>49</td>\n",
       "      <td>Business travel</td>\n",
       "      <td>Eco</td>\n",
       "      <td>1182</td>\n",
       "    </tr>\n",
       "    <tr>\n",
       "      <th>...</th>\n",
       "      <td>...</td>\n",
       "      <td>...</td>\n",
       "      <td>...</td>\n",
       "      <td>...</td>\n",
       "      <td>...</td>\n",
       "      <td>...</td>\n",
       "      <td>...</td>\n",
       "      <td>...</td>\n",
       "    </tr>\n",
       "    <tr>\n",
       "      <th>129875</th>\n",
       "      <td>103899</td>\n",
       "      <td>94171</td>\n",
       "      <td>Female</td>\n",
       "      <td>disloyal Customer</td>\n",
       "      <td>23</td>\n",
       "      <td>Business travel</td>\n",
       "      <td>Eco</td>\n",
       "      <td>192</td>\n",
       "    </tr>\n",
       "    <tr>\n",
       "      <th>129876</th>\n",
       "      <td>103900</td>\n",
       "      <td>73097</td>\n",
       "      <td>Male</td>\n",
       "      <td>Loyal Customer</td>\n",
       "      <td>49</td>\n",
       "      <td>Business travel</td>\n",
       "      <td>Business</td>\n",
       "      <td>2347</td>\n",
       "    </tr>\n",
       "    <tr>\n",
       "      <th>129877</th>\n",
       "      <td>103901</td>\n",
       "      <td>68825</td>\n",
       "      <td>Male</td>\n",
       "      <td>disloyal Customer</td>\n",
       "      <td>30</td>\n",
       "      <td>Business travel</td>\n",
       "      <td>Business</td>\n",
       "      <td>1995</td>\n",
       "    </tr>\n",
       "    <tr>\n",
       "      <th>129878</th>\n",
       "      <td>103902</td>\n",
       "      <td>54173</td>\n",
       "      <td>Female</td>\n",
       "      <td>disloyal Customer</td>\n",
       "      <td>22</td>\n",
       "      <td>Business travel</td>\n",
       "      <td>Eco</td>\n",
       "      <td>1000</td>\n",
       "    </tr>\n",
       "    <tr>\n",
       "      <th>129879</th>\n",
       "      <td>103903</td>\n",
       "      <td>62567</td>\n",
       "      <td>Male</td>\n",
       "      <td>Loyal Customer</td>\n",
       "      <td>27</td>\n",
       "      <td>Business travel</td>\n",
       "      <td>Business</td>\n",
       "      <td>1723</td>\n",
       "    </tr>\n",
       "  </tbody>\n",
       "</table>\n",
       "<p>129880 rows × 8 columns</p>\n",
       "</div>"
      ],
      "text/plain": [
       "         index     id  Gender      Customer Type  Age   Type of Travel  \\\n",
       "0            0  19556  Female     Loyal Customer   52  Business travel   \n",
       "1            1  90035  Female     Loyal Customer   36  Business travel   \n",
       "2            2  12360    Male  disloyal Customer   20  Business travel   \n",
       "3            3  77959    Male     Loyal Customer   44  Business travel   \n",
       "4            4  36875  Female     Loyal Customer   49  Business travel   \n",
       "...        ...    ...     ...                ...  ...              ...   \n",
       "129875  103899  94171  Female  disloyal Customer   23  Business travel   \n",
       "129876  103900  73097    Male     Loyal Customer   49  Business travel   \n",
       "129877  103901  68825    Male  disloyal Customer   30  Business travel   \n",
       "129878  103902  54173  Female  disloyal Customer   22  Business travel   \n",
       "129879  103903  62567    Male     Loyal Customer   27  Business travel   \n",
       "\n",
       "           Class  Flight Distance  \n",
       "0            Eco              160  \n",
       "1       Business             2863  \n",
       "2            Eco              192  \n",
       "3       Business             3377  \n",
       "4            Eco             1182  \n",
       "...          ...              ...  \n",
       "129875       Eco              192  \n",
       "129876  Business             2347  \n",
       "129877  Business             1995  \n",
       "129878       Eco             1000  \n",
       "129879  Business             1723  \n",
       "\n",
       "[129880 rows x 8 columns]"
      ]
     },
     "execution_count": 6,
     "metadata": {},
     "output_type": "execute_result"
    }
   ],
   "source": [
    "predictors = satisfaction.iloc[:, 1:8]\n",
    "predictors.reset_index()"
   ]
  },
  {
   "cell_type": "code",
   "execution_count": 7,
   "metadata": {},
   "outputs": [
    {
     "data": {
      "text/html": [
       "<div>\n",
       "<style scoped>\n",
       "    .dataframe tbody tr th:only-of-type {\n",
       "        vertical-align: middle;\n",
       "    }\n",
       "\n",
       "    .dataframe tbody tr th {\n",
       "        vertical-align: top;\n",
       "    }\n",
       "\n",
       "    .dataframe thead th {\n",
       "        text-align: right;\n",
       "    }\n",
       "</style>\n",
       "<table border=\"1\" class=\"dataframe\">\n",
       "  <thead>\n",
       "    <tr style=\"text-align: right;\">\n",
       "      <th></th>\n",
       "      <th>id</th>\n",
       "      <th>Gender</th>\n",
       "      <th>Customer Type</th>\n",
       "      <th>Age</th>\n",
       "      <th>Type of Travel</th>\n",
       "      <th>Class</th>\n",
       "      <th>Flight Distance</th>\n",
       "      <th>satisfaction</th>\n",
       "    </tr>\n",
       "  </thead>\n",
       "  <tbody>\n",
       "    <tr>\n",
       "      <th>0</th>\n",
       "      <td>19556</td>\n",
       "      <td>Female</td>\n",
       "      <td>Loyal Customer</td>\n",
       "      <td>52</td>\n",
       "      <td>Business travel</td>\n",
       "      <td>Eco</td>\n",
       "      <td>160</td>\n",
       "      <td>satisfied</td>\n",
       "    </tr>\n",
       "    <tr>\n",
       "      <th>1</th>\n",
       "      <td>90035</td>\n",
       "      <td>Female</td>\n",
       "      <td>Loyal Customer</td>\n",
       "      <td>36</td>\n",
       "      <td>Business travel</td>\n",
       "      <td>Business</td>\n",
       "      <td>2863</td>\n",
       "      <td>satisfied</td>\n",
       "    </tr>\n",
       "    <tr>\n",
       "      <th>2</th>\n",
       "      <td>12360</td>\n",
       "      <td>Male</td>\n",
       "      <td>disloyal Customer</td>\n",
       "      <td>20</td>\n",
       "      <td>Business travel</td>\n",
       "      <td>Eco</td>\n",
       "      <td>192</td>\n",
       "      <td>neutral or dissatisfied</td>\n",
       "    </tr>\n",
       "    <tr>\n",
       "      <th>3</th>\n",
       "      <td>77959</td>\n",
       "      <td>Male</td>\n",
       "      <td>Loyal Customer</td>\n",
       "      <td>44</td>\n",
       "      <td>Business travel</td>\n",
       "      <td>Business</td>\n",
       "      <td>3377</td>\n",
       "      <td>satisfied</td>\n",
       "    </tr>\n",
       "    <tr>\n",
       "      <th>4</th>\n",
       "      <td>36875</td>\n",
       "      <td>Female</td>\n",
       "      <td>Loyal Customer</td>\n",
       "      <td>49</td>\n",
       "      <td>Business travel</td>\n",
       "      <td>Eco</td>\n",
       "      <td>1182</td>\n",
       "      <td>satisfied</td>\n",
       "    </tr>\n",
       "    <tr>\n",
       "      <th>...</th>\n",
       "      <td>...</td>\n",
       "      <td>...</td>\n",
       "      <td>...</td>\n",
       "      <td>...</td>\n",
       "      <td>...</td>\n",
       "      <td>...</td>\n",
       "      <td>...</td>\n",
       "      <td>...</td>\n",
       "    </tr>\n",
       "    <tr>\n",
       "      <th>129875</th>\n",
       "      <td>94171</td>\n",
       "      <td>Female</td>\n",
       "      <td>disloyal Customer</td>\n",
       "      <td>23</td>\n",
       "      <td>Business travel</td>\n",
       "      <td>Eco</td>\n",
       "      <td>192</td>\n",
       "      <td>neutral or dissatisfied</td>\n",
       "    </tr>\n",
       "    <tr>\n",
       "      <th>129876</th>\n",
       "      <td>73097</td>\n",
       "      <td>Male</td>\n",
       "      <td>Loyal Customer</td>\n",
       "      <td>49</td>\n",
       "      <td>Business travel</td>\n",
       "      <td>Business</td>\n",
       "      <td>2347</td>\n",
       "      <td>satisfied</td>\n",
       "    </tr>\n",
       "    <tr>\n",
       "      <th>129877</th>\n",
       "      <td>68825</td>\n",
       "      <td>Male</td>\n",
       "      <td>disloyal Customer</td>\n",
       "      <td>30</td>\n",
       "      <td>Business travel</td>\n",
       "      <td>Business</td>\n",
       "      <td>1995</td>\n",
       "      <td>neutral or dissatisfied</td>\n",
       "    </tr>\n",
       "    <tr>\n",
       "      <th>129878</th>\n",
       "      <td>54173</td>\n",
       "      <td>Female</td>\n",
       "      <td>disloyal Customer</td>\n",
       "      <td>22</td>\n",
       "      <td>Business travel</td>\n",
       "      <td>Eco</td>\n",
       "      <td>1000</td>\n",
       "      <td>neutral or dissatisfied</td>\n",
       "    </tr>\n",
       "    <tr>\n",
       "      <th>129879</th>\n",
       "      <td>62567</td>\n",
       "      <td>Male</td>\n",
       "      <td>Loyal Customer</td>\n",
       "      <td>27</td>\n",
       "      <td>Business travel</td>\n",
       "      <td>Business</td>\n",
       "      <td>1723</td>\n",
       "      <td>neutral or dissatisfied</td>\n",
       "    </tr>\n",
       "  </tbody>\n",
       "</table>\n",
       "<p>129880 rows × 8 columns</p>\n",
       "</div>"
      ],
      "text/plain": [
       "           id  Gender      Customer Type  Age   Type of Travel     Class  \\\n",
       "0       19556  Female     Loyal Customer   52  Business travel       Eco   \n",
       "1       90035  Female     Loyal Customer   36  Business travel  Business   \n",
       "2       12360    Male  disloyal Customer   20  Business travel       Eco   \n",
       "3       77959    Male     Loyal Customer   44  Business travel  Business   \n",
       "4       36875  Female     Loyal Customer   49  Business travel       Eco   \n",
       "...       ...     ...                ...  ...              ...       ...   \n",
       "129875  94171  Female  disloyal Customer   23  Business travel       Eco   \n",
       "129876  73097    Male     Loyal Customer   49  Business travel  Business   \n",
       "129877  68825    Male  disloyal Customer   30  Business travel  Business   \n",
       "129878  54173  Female  disloyal Customer   22  Business travel       Eco   \n",
       "129879  62567    Male     Loyal Customer   27  Business travel  Business   \n",
       "\n",
       "        Flight Distance             satisfaction  \n",
       "0                   160                satisfied  \n",
       "1                  2863                satisfied  \n",
       "2                   192  neutral or dissatisfied  \n",
       "3                  3377                satisfied  \n",
       "4                  1182                satisfied  \n",
       "...                 ...                      ...  \n",
       "129875              192  neutral or dissatisfied  \n",
       "129876             2347                satisfied  \n",
       "129877             1995  neutral or dissatisfied  \n",
       "129878             1000  neutral or dissatisfied  \n",
       "129879             1723  neutral or dissatisfied  \n",
       "\n",
       "[129880 rows x 8 columns]"
      ]
     },
     "execution_count": 7,
     "metadata": {},
     "output_type": "execute_result"
    }
   ],
   "source": [
    "df = pd.read_csv('cleaned.csv')\n",
    "df = df.drop('Unnamed: 0', axis = 1)\n",
    "df"
   ]
  },
  {
   "cell_type": "code",
   "execution_count": 8,
   "metadata": {},
   "outputs": [
    {
     "data": {
      "text/plain": [
       "(129880, 8)"
      ]
     },
     "execution_count": 8,
     "metadata": {},
     "output_type": "execute_result"
    }
   ],
   "source": [
    "df.shape"
   ]
  },
  {
   "cell_type": "code",
   "execution_count": null,
   "metadata": {},
   "outputs": [],
   "source": []
  },
  {
   "cell_type": "code",
   "execution_count": 104,
   "metadata": {},
   "outputs": [
    {
     "name": "stdout",
     "output_type": "stream",
     "text": [
      "gender_enc          73452\n",
      "customer_enc        73452\n",
      "travel_enc          73452\n",
      "class_enc           73452\n",
      "Age                 73452\n",
      "flight_distance     73452\n",
      "satisfaction_enc    73452\n",
      "dtype: int64\n",
      "gender_enc          56428\n",
      "customer_enc        56428\n",
      "travel_enc          56428\n",
      "class_enc           56428\n",
      "Age                 56428\n",
      "flight_distance     56428\n",
      "satisfaction_enc    56428\n",
      "dtype: int64\n"
     ]
    },
    {
     "data": {
      "text/plain": [
       "(array([2.6252e+04, 3.0388e+04, 1.9887e+04, 1.0461e+04, 8.9190e+03,\n",
       "        7.2290e+03, 5.7280e+03, 6.9120e+03, 3.8110e+03, 3.3270e+03,\n",
       "        3.3520e+03, 3.4520e+03, 1.0700e+02, 1.4000e+01, 4.1000e+01]),\n",
       " array([  31.        ,  361.13333333,  691.26666667, 1021.4       ,\n",
       "        1351.53333333, 1681.66666667, 2011.8       , 2341.93333333,\n",
       "        2672.06666667, 3002.2       , 3332.33333333, 3662.46666667,\n",
       "        3992.6       , 4322.73333333, 4652.86666667, 4983.        ]),\n",
       " <BarContainer object of 15 artists>)"
      ]
     },
     "execution_count": 104,
     "metadata": {},
     "output_type": "execute_result"
    },
    {
     "data": {
      "image/png": "[encoded data removed]",
      "text/plain": [
       "<Figure size 432x288 with 1 Axes>"
      ]
     },
     "metadata": {
      "needs_background": "light"
     },
     "output_type": "display_data"
    }
   ],
   "source": [
    "plt.scatter(ordinal_df['flight_distance'],ordinal_df['satisfaction_enc'])\n",
    "print(ordinal_df[(ordinal_df['satisfaction_enc'] == 0)].count())\n",
    "print(ordinal_df[(ordinal_df['satisfaction_enc'] == 1)].count())\n",
    "plt.hist(ordinal_df['flight_distance'], bins = 15)"
   ]
  },
  {
   "cell_type": "code",
   "execution_count": 9,
   "metadata": {},
   "outputs": [
    {
     "data": {
      "text/html": [
       "<div>\n",
       "<style scoped>\n",
       "    .dataframe tbody tr th:only-of-type {\n",
       "        vertical-align: middle;\n",
       "    }\n",
       "\n",
       "    .dataframe tbody tr th {\n",
       "        vertical-align: top;\n",
       "    }\n",
       "\n",
       "    .dataframe thead th {\n",
       "        text-align: right;\n",
       "    }\n",
       "</style>\n",
       "<table border=\"1\" class=\"dataframe\">\n",
       "  <thead>\n",
       "    <tr style=\"text-align: right;\">\n",
       "      <th></th>\n",
       "      <th>id</th>\n",
       "      <th>Age</th>\n",
       "      <th>Flight Distance</th>\n",
       "    </tr>\n",
       "  </thead>\n",
       "  <tbody>\n",
       "    <tr>\n",
       "      <th>count</th>\n",
       "      <td>129880.000000</td>\n",
       "      <td>129880.000000</td>\n",
       "      <td>129880.000000</td>\n",
       "    </tr>\n",
       "    <tr>\n",
       "      <th>mean</th>\n",
       "      <td>64940.500000</td>\n",
       "      <td>39.427957</td>\n",
       "      <td>1190.316392</td>\n",
       "    </tr>\n",
       "    <tr>\n",
       "      <th>std</th>\n",
       "      <td>37493.270818</td>\n",
       "      <td>15.119360</td>\n",
       "      <td>997.452477</td>\n",
       "    </tr>\n",
       "    <tr>\n",
       "      <th>min</th>\n",
       "      <td>1.000000</td>\n",
       "      <td>7.000000</td>\n",
       "      <td>31.000000</td>\n",
       "    </tr>\n",
       "    <tr>\n",
       "      <th>25%</th>\n",
       "      <td>32470.750000</td>\n",
       "      <td>27.000000</td>\n",
       "      <td>414.000000</td>\n",
       "    </tr>\n",
       "    <tr>\n",
       "      <th>50%</th>\n",
       "      <td>64940.500000</td>\n",
       "      <td>40.000000</td>\n",
       "      <td>844.000000</td>\n",
       "    </tr>\n",
       "    <tr>\n",
       "      <th>75%</th>\n",
       "      <td>97410.250000</td>\n",
       "      <td>51.000000</td>\n",
       "      <td>1744.000000</td>\n",
       "    </tr>\n",
       "    <tr>\n",
       "      <th>max</th>\n",
       "      <td>129880.000000</td>\n",
       "      <td>85.000000</td>\n",
       "      <td>4983.000000</td>\n",
       "    </tr>\n",
       "  </tbody>\n",
       "</table>\n",
       "</div>"
      ],
      "text/plain": [
       "                  id            Age  Flight Distance\n",
       "count  129880.000000  129880.000000    129880.000000\n",
       "mean    64940.500000      39.427957      1190.316392\n",
       "std     37493.270818      15.119360       997.452477\n",
       "min         1.000000       7.000000        31.000000\n",
       "25%     32470.750000      27.000000       414.000000\n",
       "50%     64940.500000      40.000000       844.000000\n",
       "75%     97410.250000      51.000000      1744.000000\n",
       "max    129880.000000      85.000000      4983.000000"
      ]
     },
     "execution_count": 9,
     "metadata": {},
     "output_type": "execute_result"
    }
   ],
   "source": [
    "df.describe()"
   ]
  },
  {
   "cell_type": "code",
   "execution_count": 10,
   "metadata": {},
   "outputs": [
    {
     "data": {
      "text/plain": [
       "<AxesSubplot:ylabel='satisfaction'>"
      ]
     },
     "execution_count": 10,
     "metadata": {},
     "output_type": "execute_result"
    },
    {
     "data": {
      "image/png": "[encoded data removed]",
      "text/plain": [
       "<Figure size 432x288 with 1 Axes>"
      ]
     },
     "metadata": {
      "needs_background": "light"
     },
     "output_type": "display_data"
    }
   ],
   "source": [
    "df.pivot_table(index = 'satisfaction', columns = ['Gender'], values = 'id', aggfunc = 'count').plot(kind = 'barh')"
   ]
  },
  {
   "cell_type": "code",
   "execution_count": 11,
   "metadata": {},
   "outputs": [
    {
     "data": {
      "text/plain": [
       "<AxesSubplot:ylabel='satisfaction'>"
      ]
     },
     "execution_count": 11,
     "metadata": {},
     "output_type": "execute_result"
    },
    {
     "data": {
      "image/png": "[encoded data removed]",
      "text/plain": [
       "<Figure size 432x288 with 1 Axes>"
      ]
     },
     "metadata": {
      "needs_background": "light"
     },
     "output_type": "display_data"
    }
   ],
   "source": [
    "df.pivot_table(index = 'satisfaction', columns = ['Customer Type'], values = 'id', aggfunc = 'count').plot(kind = 'barh')"
   ]
  },
  {
   "cell_type": "code",
   "execution_count": 12,
   "metadata": {},
   "outputs": [
    {
     "data": {
      "text/plain": [
       "<AxesSubplot:ylabel='satisfaction'>"
      ]
     },
     "execution_count": 12,
     "metadata": {},
     "output_type": "execute_result"
    },
    {
     "data": {
      "image/png": "[encoded data removed]",
      "text/plain": [
       "<Figure size 432x288 with 1 Axes>"
      ]
     },
     "metadata": {
      "needs_background": "light"
     },
     "output_type": "display_data"
    }
   ],
   "source": [
    "df.pivot_table(index = 'satisfaction', columns = ['Type of Travel'], values = 'id', aggfunc = 'count').plot(kind = 'barh')"
   ]
  },
  {
   "cell_type": "code",
   "execution_count": 13,
   "metadata": {},
   "outputs": [
    {
     "data": {
      "text/plain": [
       "<AxesSubplot:ylabel='satisfaction'>"
      ]
     },
     "execution_count": 13,
     "metadata": {},
     "output_type": "execute_result"
    },
    {
     "data": {
      "image/png": "[encoded data removed]",
      "text/plain": [
       "<Figure size 432x288 with 1 Axes>"
      ]
     },
     "metadata": {
      "needs_background": "light"
     },
     "output_type": "display_data"
    }
   ],
   "source": [
    "df.pivot_table(index = 'satisfaction', columns = ['Class'], values = 'id', aggfunc = 'count').plot(kind = 'barh')"
   ]
  },
  {
   "cell_type": "code",
   "execution_count": 14,
   "metadata": {},
   "outputs": [],
   "source": [
    "new_df = df.copy()"
   ]
  },
  {
   "cell_type": "code",
   "execution_count": 15,
   "metadata": {},
   "outputs": [],
   "source": [
    "def create_ordinal(df):\n",
    "    \"\"\"\n",
    "    create_ordinal takes in diamonds and returns a dataframe of ordinal\n",
    "    features with names ordinal_<col> where <col> is the original\n",
    "    categorical column name.\n",
    "\n",
    "    :Example:\n",
    "    >>> diamonds = sns.load_dataset('diamonds')\n",
    "    >>> out = create_ordinal(diamonds)\n",
    "    >>> set(out.columns) == {'ordinal_cut', 'ordinal_clarity', 'ordinal_color'}\n",
    "    True\n",
    "    >>> np.unique(out['ordinal_cut']).tolist() == [0, 1, 2, 3, 4]\n",
    "    True\n",
    "    \"\"\"\n",
    "    new_df = df.copy()\n",
    "    gender_unique = 'Female Male'.split(' ')\n",
    "    customer_unique = 'Loyal Customer, disloyal Customer'.split(', ')\n",
    "    travel_unique = 'Business travel, Personal Travel'.split(', ')\n",
    "    class_unique = 'Business, Eco, Eco Plus'.split(', ')\n",
    "    satisfaction_unique = 'neutral or dissatisfied, satisfied'.split(', ')\n",
    "    \n",
    "    \n",
    "    gender_enc = {y:x for (x,y) in enumerate(gender_unique)}\n",
    "    customer_enc = {y:x for (x,y) in enumerate(customer_unique)}\n",
    "    travel_enc = {y:x for (x,y) in enumerate(travel_unique)}\n",
    "    class_enc = {y:x for (x,y) in enumerate(class_unique)}\n",
    "    satisfaction_enc = {y:x for (x,y) in enumerate(satisfaction_unique)}\n",
    "    \n",
    "    \n",
    "    \n",
    "    new_df['gender_enc'] = new_df['Gender'].replace(gender_enc)\n",
    "    new_df['customer_enc'] = new_df['Customer Type'].replace(customer_enc)\n",
    "    new_df['travel_enc'] =  new_df['Type of Travel'].replace(travel_enc)\n",
    "    new_df['class_enc'] =  new_df['Class'].replace(class_enc)\n",
    "    new_df['satisfaction_enc'] =  new_df['satisfaction'].replace(satisfaction_enc)\n",
    "    return new_df[['gender_enc', 'customer_enc', 'travel_enc', 'class_enc', 'Age', 'Flight Distance', 'satisfaction_enc']]"
   ]
  },
  {
   "cell_type": "code",
   "execution_count": 88,
   "metadata": {},
   "outputs": [
    {
     "data": {
      "text/html": [
       "<div>\n",
       "<style scoped>\n",
       "    .dataframe tbody tr th:only-of-type {\n",
       "        vertical-align: middle;\n",
       "    }\n",
       "\n",
       "    .dataframe tbody tr th {\n",
       "        vertical-align: top;\n",
       "    }\n",
       "\n",
       "    .dataframe thead th {\n",
       "        text-align: right;\n",
       "    }\n",
       "</style>\n",
       "<table border=\"1\" class=\"dataframe\">\n",
       "  <thead>\n",
       "    <tr style=\"text-align: right;\">\n",
       "      <th></th>\n",
       "      <th>gender_enc</th>\n",
       "      <th>customer_enc</th>\n",
       "      <th>travel_enc</th>\n",
       "      <th>class_enc</th>\n",
       "      <th>Age</th>\n",
       "      <th>flight_distance</th>\n",
       "      <th>satisfaction_enc</th>\n",
       "    </tr>\n",
       "  </thead>\n",
       "  <tbody>\n",
       "    <tr>\n",
       "      <th>0</th>\n",
       "      <td>0</td>\n",
       "      <td>0</td>\n",
       "      <td>0</td>\n",
       "      <td>1</td>\n",
       "      <td>52</td>\n",
       "      <td>160</td>\n",
       "      <td>1</td>\n",
       "    </tr>\n",
       "    <tr>\n",
       "      <th>1</th>\n",
       "      <td>0</td>\n",
       "      <td>0</td>\n",
       "      <td>0</td>\n",
       "      <td>0</td>\n",
       "      <td>36</td>\n",
       "      <td>2863</td>\n",
       "      <td>1</td>\n",
       "    </tr>\n",
       "    <tr>\n",
       "      <th>2</th>\n",
       "      <td>1</td>\n",
       "      <td>1</td>\n",
       "      <td>0</td>\n",
       "      <td>1</td>\n",
       "      <td>20</td>\n",
       "      <td>192</td>\n",
       "      <td>0</td>\n",
       "    </tr>\n",
       "    <tr>\n",
       "      <th>3</th>\n",
       "      <td>1</td>\n",
       "      <td>0</td>\n",
       "      <td>0</td>\n",
       "      <td>0</td>\n",
       "      <td>44</td>\n",
       "      <td>3377</td>\n",
       "      <td>1</td>\n",
       "    </tr>\n",
       "    <tr>\n",
       "      <th>4</th>\n",
       "      <td>0</td>\n",
       "      <td>0</td>\n",
       "      <td>0</td>\n",
       "      <td>1</td>\n",
       "      <td>49</td>\n",
       "      <td>1182</td>\n",
       "      <td>1</td>\n",
       "    </tr>\n",
       "    <tr>\n",
       "      <th>...</th>\n",
       "      <td>...</td>\n",
       "      <td>...</td>\n",
       "      <td>...</td>\n",
       "      <td>...</td>\n",
       "      <td>...</td>\n",
       "      <td>...</td>\n",
       "      <td>...</td>\n",
       "    </tr>\n",
       "    <tr>\n",
       "      <th>129875</th>\n",
       "      <td>0</td>\n",
       "      <td>1</td>\n",
       "      <td>0</td>\n",
       "      <td>1</td>\n",
       "      <td>23</td>\n",
       "      <td>192</td>\n",
       "      <td>0</td>\n",
       "    </tr>\n",
       "    <tr>\n",
       "      <th>129876</th>\n",
       "      <td>1</td>\n",
       "      <td>0</td>\n",
       "      <td>0</td>\n",
       "      <td>0</td>\n",
       "      <td>49</td>\n",
       "      <td>2347</td>\n",
       "      <td>1</td>\n",
       "    </tr>\n",
       "    <tr>\n",
       "      <th>129877</th>\n",
       "      <td>1</td>\n",
       "      <td>1</td>\n",
       "      <td>0</td>\n",
       "      <td>0</td>\n",
       "      <td>30</td>\n",
       "      <td>1995</td>\n",
       "      <td>0</td>\n",
       "    </tr>\n",
       "    <tr>\n",
       "      <th>129878</th>\n",
       "      <td>0</td>\n",
       "      <td>1</td>\n",
       "      <td>0</td>\n",
       "      <td>1</td>\n",
       "      <td>22</td>\n",
       "      <td>1000</td>\n",
       "      <td>0</td>\n",
       "    </tr>\n",
       "    <tr>\n",
       "      <th>129879</th>\n",
       "      <td>1</td>\n",
       "      <td>0</td>\n",
       "      <td>0</td>\n",
       "      <td>0</td>\n",
       "      <td>27</td>\n",
       "      <td>1723</td>\n",
       "      <td>0</td>\n",
       "    </tr>\n",
       "  </tbody>\n",
       "</table>\n",
       "<p>129880 rows × 7 columns</p>\n",
       "</div>"
      ],
      "text/plain": [
       "        gender_enc  customer_enc  travel_enc  class_enc  Age  flight_distance  \\\n",
       "0                0             0           0          1   52              160   \n",
       "1                0             0           0          0   36             2863   \n",
       "2                1             1           0          1   20              192   \n",
       "3                1             0           0          0   44             3377   \n",
       "4                0             0           0          1   49             1182   \n",
       "...            ...           ...         ...        ...  ...              ...   \n",
       "129875           0             1           0          1   23              192   \n",
       "129876           1             0           0          0   49             2347   \n",
       "129877           1             1           0          0   30             1995   \n",
       "129878           0             1           0          1   22             1000   \n",
       "129879           1             0           0          0   27             1723   \n",
       "\n",
       "        satisfaction_enc  \n",
       "0                      1  \n",
       "1                      1  \n",
       "2                      0  \n",
       "3                      1  \n",
       "4                      1  \n",
       "...                  ...  \n",
       "129875                 0  \n",
       "129876                 1  \n",
       "129877                 0  \n",
       "129878                 0  \n",
       "129879                 0  \n",
       "\n",
       "[129880 rows x 7 columns]"
      ]
     },
     "execution_count": 88,
     "metadata": {},
     "output_type": "execute_result"
    }
   ],
   "source": [
    "ordinal_df = create_ordinal(new_df)\n",
    "ordinal_df['flight_distance'] = ordinal_df['Flight Distance']\n",
    "satisfaction_enc = ordinal_df['satisfaction_enc']\n",
    "ordinal_df = ordinal_df.drop(['Flight Distance', 'satisfaction_enc'], axis = 1)\n",
    "ordinal_df['satisfaction_enc'] = satisfaction_enc\n",
    "ordinal_df\n"
   ]
  },
  {
   "cell_type": "code",
   "execution_count": 17,
   "metadata": {},
   "outputs": [
    {
     "name": "stdout",
     "output_type": "stream",
     "text": [
      "Optimization terminated successfully.\n",
      "         Current function value: 0.639182\n",
      "         Iterations 5\n",
      "                           Logit Regression Results                           \n",
      "==============================================================================\n",
      "Dep. Variable:       satisfaction_enc   No. Observations:               129880\n",
      "Model:                          Logit   Df Residuals:                   129878\n",
      "Method:                           MLE   Df Model:                            1\n",
      "Date:                Tue, 01 Jun 2021   Pseudo R-squ.:                 0.06625\n",
      "Time:                        07:12:59   Log-Likelihood:                -83017.\n",
      "converged:                       True   LL-Null:                       -88907.\n",
      "Covariance Type:            nonrobust   LLR p-value:                     0.000\n",
      "===================================================================================\n",
      "                      coef    std err          z      P>|z|      [0.025      0.975]\n",
      "-----------------------------------------------------------------------------------\n",
      "Intercept          -1.0274      0.009   -109.546      0.000      -1.046      -1.009\n",
      "flight_distance     0.0006   6.24e-06    102.284      0.000       0.001       0.001\n",
      "===================================================================================\n"
     ]
    },
    {
     "data": {
      "text/plain": [
       "Intercept          0.0\n",
       "flight_distance    0.0\n",
       "dtype: float64"
      ]
     },
     "execution_count": 17,
     "metadata": {},
     "output_type": "execute_result"
    }
   ],
   "source": [
    "logistic_regression = logit('satisfaction_enc ~ flight_distance', data=ordinal_df).fit()\n",
    "print(logistic_regression.summary())\n",
    "logistic_regression.pvalues"
   ]
  },
  {
   "cell_type": "code",
   "execution_count": 18,
   "metadata": {},
   "outputs": [],
   "source": [
    "def MSE(y, yhat):\n",
    "    return np.mean(np.power(yhat - y, 2))"
   ]
  },
  {
   "cell_type": "code",
   "execution_count": 25,
   "metadata": {},
   "outputs": [
    {
     "name": "stdout",
     "output_type": "stream",
     "text": [
      "Optimization terminated successfully.\n",
      "         Current function value: 0.684469\n",
      "         Iterations 4\n",
      "Optimization terminated successfully.\n",
      "         Current function value: 0.666289\n",
      "         Iterations 5\n",
      "Optimization terminated successfully.\n",
      "         Current function value: 0.570433\n",
      "         Iterations 6\n",
      "Optimization terminated successfully.\n",
      "         Current function value: 0.572661\n",
      "         Iterations 6\n",
      "Optimization terminated successfully.\n",
      "         Current function value: 0.675478\n",
      "         Iterations 4\n",
      "Optimization terminated successfully.\n",
      "         Current function value: 0.639182\n",
      "         Iterations 5\n"
     ]
    }
   ],
   "source": [
    "# f\n",
    "mse = []\n",
    "P = 6\n",
    "for j in range(P):\n",
    "    specific_data_column = ordinal_df[ordinal_df.columns[j]]\n",
    "    model = logit(formula = 'satisfaction_enc ~ 1+ specific_data_column', data= ordinal_df)\n",
    "    model = model.fit()\n",
    "    yhat = model.predict()\n",
    "    each_mse = MSE(ordinal_df['satisfaction_enc'], yhat)\n",
    "    mse.append(each_mse)"
   ]
  },
  {
   "cell_type": "code",
   "execution_count": 27,
   "metadata": {},
   "outputs": [
    {
     "name": "stdout",
     "output_type": "stream",
     "text": [
      "lowest mse: class_enc\n",
      "[0.2456738263779818, 0.23720287047477412, 0.1959802918665526, 0.1883232437623116, 0.2415010122009547, 0.22356772654410825]\n"
     ]
    }
   ],
   "source": [
    "print('lowest mse: ' + ordinal_df.columns[:6][mse.index(min(mse))])\n",
    "print(mse)"
   ]
  },
  {
   "cell_type": "code",
   "execution_count": 38,
   "metadata": {},
   "outputs": [
    {
     "name": "stdout",
     "output_type": "stream",
     "text": [
      "Optimization terminated successfully.\n",
      "         Current function value: 0.572634\n",
      "         Iterations 6\n",
      "Optimization terminated successfully.\n",
      "         Current function value: 0.556542\n",
      "         Iterations 6\n",
      "Optimization terminated successfully.\n",
      "         Current function value: 0.530341\n",
      "         Iterations 6\n",
      "Optimization terminated successfully.\n",
      "         Current function value: 0.568940\n",
      "         Iterations 6\n",
      "Optimization terminated successfully.\n",
      "         Current function value: 0.566649\n",
      "         Iterations 6\n"
     ]
    }
   ],
   "source": [
    "features = ordinal_df.columns\n",
    "first_feature = 'class_enc'\n",
    "features_without_first = [i for i in features if i != first_feature]\n",
    "mse_two_features = []\n",
    "for j in range(6):\n",
    "    specific_data_column = ordinal_df[ordinal_df.columns[j]]\n",
    "    if specific_data_column.equals(ordinal_df['class_enc']) == False:\n",
    "        model = logit(formula = 'satisfaction_enc ~ 1+ class_enc + specific_data_column', data= ordinal_df)\n",
    "        model = model.fit()\n",
    "        yhat = model.predict()\n",
    "        each_mse = MSE(ordinal_df['satisfaction_enc'], yhat)\n",
    "        mse_two_features.append(each_mse)"
   ]
  },
  {
   "cell_type": "code",
   "execution_count": 39,
   "metadata": {},
   "outputs": [
    {
     "name": "stdout",
     "output_type": "stream",
     "text": [
      "lowest mse: travel_enc\n",
      "[0.1883146589303074, 0.18172148846324138, 0.17530730973408085, 0.1869915372681581, 0.1864206701515766]\n"
     ]
    }
   ],
   "source": [
    "print('lowest mse: ' + features_without_first[mse_two_features.index(min(mse_two_features))])\n",
    "print(mse_two_features)"
   ]
  },
  {
   "cell_type": "code",
   "execution_count": 43,
   "metadata": {},
   "outputs": [
    {
     "name": "stdout",
     "output_type": "stream",
     "text": [
      "Optimization terminated successfully.\n",
      "         Current function value: 0.530268\n",
      "         Iterations 6\n",
      "Optimization terminated successfully.\n",
      "         Current function value: 0.487273\n",
      "         Iterations 6\n",
      "Optimization terminated successfully.\n",
      "         Current function value: 0.525198\n",
      "         Iterations 6\n",
      "Optimization terminated successfully.\n",
      "         Current function value: 0.525840\n",
      "         Iterations 6\n"
     ]
    }
   ],
   "source": [
    "features = ordinal_df.columns\n",
    "first_feature = 'class_enc'\n",
    "second_feature = 'travel_enc'\n",
    "features_without_first_second = [i for i in features if (i != first_feature) and (i != second_feature)]\n",
    "mse_three_features = []\n",
    "for j in range(6):\n",
    "    specific_data_column = ordinal_df[ordinal_df.columns[j]]\n",
    "    if (specific_data_column.equals(ordinal_df['class_enc']) == False) and (specific_data_column.equals(ordinal_df['travel_enc']) == False):\n",
    "        model = logit(formula = 'satisfaction_enc ~ 1+ class_enc + travel_enc + specific_data_column', data= ordinal_df)\n",
    "        model = model.fit()\n",
    "        yhat = model.predict()\n",
    "        each_mse = MSE(ordinal_df['satisfaction_enc'], yhat)\n",
    "        mse_three_features.append(each_mse)"
   ]
  },
  {
   "cell_type": "code",
   "execution_count": 44,
   "metadata": {},
   "outputs": [
    {
     "name": "stdout",
     "output_type": "stream",
     "text": [
      "lowest mse: customer_enc\n",
      "[0.17527507304264364, 0.1571546183896394, 0.17270243895079904, 0.1736303026579443]\n"
     ]
    }
   ],
   "source": [
    "print('lowest mse: ' + features_without_first_second[mse_three_features.index(min(mse_three_features))])\n",
    "print(mse_three_features)"
   ]
  },
  {
   "cell_type": "code",
   "execution_count": 52,
   "metadata": {},
   "outputs": [
    {
     "name": "stdout",
     "output_type": "stream",
     "text": [
      "Optimization terminated successfully.\n",
      "         Current function value: 0.487261\n",
      "         Iterations 6\n",
      "Optimization terminated successfully.\n",
      "         Current function value: 0.487270\n",
      "         Iterations 6\n",
      "Optimization terminated successfully.\n",
      "         Current function value: 0.487227\n",
      "         Iterations 6\n"
     ]
    }
   ],
   "source": [
    "features = ordinal_df.columns\n",
    "first_feature = 'class_enc'\n",
    "second_feature = 'travel_enc'\n",
    "third_feature = 'customer_enc'\n",
    "features_without_three = [i for i in features if (i != first_feature) and (i != second_feature) and (i != third_feature)]\n",
    "mse_four_features = []\n",
    "for j in range(6):\n",
    "    specific_data_column = ordinal_df[ordinal_df.columns[j]]\n",
    "    if (specific_data_column.equals(ordinal_df['class_enc']) == False) and (specific_data_column.equals(ordinal_df['travel_enc']) == False) \\\n",
    "        and (specific_data_column.equals(ordinal_df['customer_enc']) == False):\n",
    "        model = logit(formula = 'satisfaction_enc ~ 1+ class_enc + travel_enc + customer_enc + specific_data_column', data= ordinal_df)\n",
    "        model = model.fit()\n",
    "        yhat = model.predict()\n",
    "        each_mse = MSE(ordinal_df['satisfaction_enc'], yhat)\n",
    "        mse_four_features.append(each_mse)"
   ]
  },
  {
   "cell_type": "code",
   "execution_count": 53,
   "metadata": {},
   "outputs": [
    {
     "name": "stdout",
     "output_type": "stream",
     "text": [
      "lowest mse: flight_distance\n",
      "[0.1571501822837749, 0.15714915301096044, 0.15714829802719765]\n"
     ]
    }
   ],
   "source": [
    "print('lowest mse: ' + features_without_three[mse_four_features.index(min(mse_four_features))])\n",
    "print(mse_four_features)"
   ]
  },
  {
   "cell_type": "code",
   "execution_count": 55,
   "metadata": {},
   "outputs": [
    {
     "name": "stdout",
     "output_type": "stream",
     "text": [
      "Optimization terminated successfully.\n",
      "         Current function value: 0.487216\n",
      "         Iterations 6\n",
      "Optimization terminated successfully.\n",
      "         Current function value: 0.487225\n",
      "         Iterations 6\n"
     ]
    }
   ],
   "source": [
    "features = ordinal_df.columns\n",
    "first_feature = 'class_enc'\n",
    "second_feature = 'travel_enc'\n",
    "third_feature = 'customer_enc'\n",
    "four_feature = 'flight_distance'\n",
    "features_without_four = [i for i in features if (i != first_feature) and (i != second_feature) and (i != third_feature) and (i != four_feature)]\n",
    "mse_five_features = []\n",
    "for j in range(6):\n",
    "    specific_data_column = ordinal_df[ordinal_df.columns[j]]\n",
    "    if (specific_data_column.equals(ordinal_df['class_enc']) == False) and (specific_data_column.equals(ordinal_df['travel_enc']) == False) \\\n",
    "        and (specific_data_column.equals(ordinal_df['customer_enc']) == False) and (specific_data_column.equals(ordinal_df['flight_distance']) == False):\n",
    "        model = logit(formula = 'satisfaction_enc ~ 1+ class_enc + travel_enc + customer_enc + flight_distance + specific_data_column', data= ordinal_df)\n",
    "        model = model.fit()\n",
    "        yhat = model.predict()\n",
    "        each_mse = MSE(ordinal_df['satisfaction_enc'], yhat)\n",
    "        mse_five_features.append(each_mse)"
   ]
  },
  {
   "cell_type": "code",
   "execution_count": 56,
   "metadata": {},
   "outputs": [
    {
     "name": "stdout",
     "output_type": "stream",
     "text": [
      "lowest mse: gender_enc\n",
      "[0.1571437911713825, 0.15714387517711406]\n"
     ]
    }
   ],
   "source": [
    "print('lowest mse: ' + features_without_four[mse_five_features.index(min(mse_five_features))])\n",
    "print(mse_five_features)"
   ]
  },
  {
   "cell_type": "code",
   "execution_count": 58,
   "metadata": {},
   "outputs": [
    {
     "name": "stdout",
     "output_type": "stream",
     "text": [
      "Optimization terminated successfully.\n",
      "         Current function value: 0.487214\n",
      "         Iterations 6\n"
     ]
    }
   ],
   "source": [
    "features = ordinal_df.columns\n",
    "first_feature = 'class_enc'\n",
    "second_feature = 'travel_enc'\n",
    "third_feature = 'customer_enc'\n",
    "four_feature = 'flight_distance'\n",
    "five_feature = 'gender_enc'\n",
    "features_without_five = [i for i in features if (i != first_feature) and (i != second_feature) and (i != third_feature) and (i != four_feature) and (i != five_feature)]\n",
    "mse_six_features = []\n",
    "for j in range(6):\n",
    "    specific_data_column = ordinal_df[ordinal_df.columns[j]]\n",
    "    if (specific_data_column.equals(ordinal_df['class_enc']) == False) and (specific_data_column.equals(ordinal_df['travel_enc']) == False) \\\n",
    "        and (specific_data_column.equals(ordinal_df['customer_enc']) == False) and (specific_data_column.equals(ordinal_df['flight_distance']) == False) \\\n",
    "        and (specific_data_column.equals(ordinal_df['gender_enc']) == False):\n",
    "        model = logit(formula = 'satisfaction_enc ~ 1+ class_enc + travel_enc + customer_enc + flight_distance + gender_enc +specific_data_column', data= ordinal_df)\n",
    "        model = model.fit()\n",
    "        yhat = model.predict()\n",
    "        each_mse = MSE(ordinal_df['satisfaction_enc'], yhat)\n",
    "        mse_six_features.append(each_mse)"
   ]
  },
  {
   "cell_type": "code",
   "execution_count": 59,
   "metadata": {},
   "outputs": [
    {
     "name": "stdout",
     "output_type": "stream",
     "text": [
      "lowest mse: Age\n",
      "[0.15713938131157226]\n"
     ]
    }
   ],
   "source": [
    "print('lowest mse: ' + features_without_five[mse_six_features.index(min(mse_six_features))])\n",
    "print(mse_six_features)"
   ]
  },
  {
   "cell_type": "code",
   "execution_count": 76,
   "metadata": {},
   "outputs": [
    {
     "name": "stdout",
     "output_type": "stream",
     "text": [
      "Optimization terminated successfully.\n",
      "         Current function value: 0.572661\n",
      "         Iterations 6\n",
      "Optimization terminated successfully.\n",
      "         Current function value: 0.530341\n",
      "         Iterations 6\n",
      "Optimization terminated successfully.\n",
      "         Current function value: 0.487273\n",
      "         Iterations 6\n",
      "Optimization terminated successfully.\n",
      "         Current function value: 0.487227\n",
      "         Iterations 6\n",
      "Optimization terminated successfully.\n",
      "         Current function value: 0.487216\n",
      "         Iterations 6\n",
      "Optimization terminated successfully.\n",
      "         Current function value: 0.487214\n",
      "         Iterations 6\n",
      "Optimization terminated successfully.\n",
      "         Current function value: 0.572661\n",
      "         Iterations 6\n",
      "Optimization terminated successfully.\n",
      "         Current function value: 0.530341\n",
      "         Iterations 6\n",
      "Optimization terminated successfully.\n",
      "         Current function value: 0.487273\n",
      "         Iterations 6\n",
      "Optimization terminated successfully.\n",
      "         Current function value: 0.487227\n",
      "         Iterations 6\n",
      "Optimization terminated successfully.\n",
      "         Current function value: 0.487216\n",
      "         Iterations 6\n",
      "Optimization terminated successfully.\n",
      "         Current function value: 0.487214\n",
      "         Iterations 6\n",
      "Optimization terminated successfully.\n",
      "         Current function value: 0.572661\n",
      "         Iterations 6\n",
      "Optimization terminated successfully.\n",
      "         Current function value: 0.530341\n",
      "         Iterations 6\n",
      "Optimization terminated successfully.\n",
      "         Current function value: 0.487273\n",
      "         Iterations 6\n",
      "Optimization terminated successfully.\n",
      "         Current function value: 0.487227\n",
      "         Iterations 6\n",
      "Optimization terminated successfully.\n",
      "         Current function value: 0.487216\n",
      "         Iterations 6\n",
      "Optimization terminated successfully.\n",
      "         Current function value: 0.487214\n",
      "         Iterations 6\n",
      "Optimization terminated successfully.\n",
      "         Current function value: 0.572661\n",
      "         Iterations 6\n",
      "Optimization terminated successfully.\n",
      "         Current function value: 0.530341\n",
      "         Iterations 6\n",
      "Optimization terminated successfully.\n",
      "         Current function value: 0.487273\n",
      "         Iterations 6\n",
      "Optimization terminated successfully.\n",
      "         Current function value: 0.487227\n",
      "         Iterations 6\n",
      "Optimization terminated successfully.\n",
      "         Current function value: 0.487216\n",
      "         Iterations 6\n",
      "Optimization terminated successfully.\n",
      "         Current function value: 0.487214\n",
      "         Iterations 6\n",
      "Optimization terminated successfully.\n",
      "         Current function value: 0.572661\n",
      "         Iterations 6\n",
      "Optimization terminated successfully.\n",
      "         Current function value: 0.530341\n",
      "         Iterations 6\n",
      "Optimization terminated successfully.\n",
      "         Current function value: 0.487273\n",
      "         Iterations 6\n",
      "Optimization terminated successfully.\n",
      "         Current function value: 0.487227\n",
      "         Iterations 6\n",
      "Optimization terminated successfully.\n",
      "         Current function value: 0.487216\n",
      "         Iterations 6\n",
      "Optimization terminated successfully.\n",
      "         Current function value: 0.487214\n",
      "         Iterations 6\n"
     ]
    }
   ],
   "source": [
    "five_fold = sk.model_selection.KFold(n_splits = 5, shuffle = True)\n",
    "one_p_test_mse = []\n",
    "two_p_test_mse = []\n",
    "three_p_test_mse = []\n",
    "four_p_test_mse = []\n",
    "five_p_test_mse = []\n",
    "six_p_test_mse = []\n",
    "\n",
    "for train_index, test_index in five_fold.split(ordinal_df):\n",
    "    data_train, data_test = ordinal_df.iloc[train_index], ordinal_df.iloc[test_index]\n",
    "    \n",
    "    one_parameter = logit(formula = 'satisfaction_enc ~ 1 + class_enc', data = ordinal_df)\n",
    "    one_p_model = one_parameter.fit()\n",
    "    one_p_yhat = one_p_model.predict(data_test)\n",
    "    \n",
    "    one_p_mse = MSE(data_test['satisfaction_enc'], one_p_yhat)\n",
    "    one_p_test_mse.append(one_p_mse)\n",
    "    \n",
    "    two_parameter = logit(formula = 'satisfaction_enc ~ 1 + class_enc + travel_enc', data = ordinal_df)\n",
    "    two_p_model = two_parameter.fit()\n",
    "    two_p_yhat = two_p_model.predict(data_test)\n",
    "    \n",
    "    two_p_mse = MSE(data_test['satisfaction_enc'], two_p_yhat)\n",
    "    two_p_test_mse.append(two_p_mse)\n",
    "    \n",
    "    three_parameter = logit(formula = 'satisfaction_enc ~ 1 + class_enc + travel_enc + customer_enc', data = ordinal_df)\n",
    "    three_p_model = three_parameter.fit()\n",
    "    three_p_yhat = three_p_model.predict(data_test)\n",
    "    \n",
    "    three_p_mse = MSE(data_test['satisfaction_enc'], three_p_yhat)\n",
    "    three_p_test_mse.append(three_p_mse)\n",
    "    \n",
    "    four_parameter = logit(formula = 'satisfaction_enc ~ 1 + class_enc + travel_enc + customer_enc + flight_distance', data = ordinal_df)\n",
    "    four_p_model = four_parameter.fit()\n",
    "    four_p_yhat = four_p_model.predict(data_test)\n",
    "    \n",
    "    four_p_mse = MSE(data_test['satisfaction_enc'], four_p_yhat)\n",
    "    four_p_test_mse.append(four_p_mse)\n",
    "    \n",
    "    five_parameter = logit(formula = 'satisfaction_enc ~ 1 + class_enc + travel_enc + customer_enc + flight_distance + gender_enc', data = ordinal_df)\n",
    "    five_p_model = five_parameter.fit()\n",
    "    five_p_yhat = five_p_model.predict(data_test)\n",
    "    \n",
    "    five_p_mse = MSE(data_test['satisfaction_enc'], five_p_yhat)\n",
    "    five_p_test_mse.append(five_p_mse)\n",
    "    \n",
    "    six_parameter = logit(formula = 'satisfaction_enc ~ 1 + class_enc + travel_enc + customer_enc + flight_distance + gender_enc + Age', data = ordinal_df)\n",
    "    six_p_model = six_parameter.fit()\n",
    "    six_p_yhat = six_p_model.predict(data_test)\n",
    "    \n",
    "    six_p_mse = MSE(data_test['satisfaction_enc'], six_p_yhat)\n",
    "    six_p_test_mse.append(six_p_mse)"
   ]
  },
  {
   "cell_type": "code",
   "execution_count": 83,
   "metadata": {},
   "outputs": [
    {
     "name": "stdout",
     "output_type": "stream",
     "text": [
      "0.18832324376239007\n",
      "\n",
      "0.17530730973398506\n",
      "\n",
      "0.15715461838966974\n",
      "\n",
      "0.15714829802719518\n",
      "\n",
      "0.15714379117137925\n",
      "\n",
      "0.15713938131157143\n"
     ]
    }
   ],
   "source": [
    "print(np.mean(one_p_test_mse))\n",
    "print(\"\")\n",
    "print(np.mean(two_p_test_mse))\n",
    "print(\"\")\n",
    "print(np.mean(three_p_test_mse))\n",
    "print(\"\")\n",
    "print(np.mean(four_p_test_mse))\n",
    "print(\"\")\n",
    "print(np.mean(five_p_test_mse))\n",
    "print(\"\")\n",
    "print(np.mean(six_p_test_mse))\n",
    "mse_for_each = []\n",
    "mse_for_each.append(np.mean(one_p_test_mse))\n",
    "mse_for_each.append(np.mean(two_p_test_mse))\n",
    "mse_for_each.append(np.mean(three_p_test_mse))\n",
    "mse_for_each.append(np.mean(four_p_test_mse))\n",
    "mse_for_each.append(np.mean(five_p_test_mse))\n",
    "mse_for_each.append(np.mean(six_p_test_mse))"
   ]
  },
  {
   "cell_type": "code",
   "execution_count": 85,
   "metadata": {},
   "outputs": [
    {
     "name": "stdout",
     "output_type": "stream",
     "text": [
      "[0.18832324376239007, 0.17530730973398506, 0.15715461838966974, 0.15714829802719518, 0.15714379117137925, 0.15713938131157143]\n"
     ]
    },
    {
     "data": {
      "text/plain": [
       "[<matplotlib.lines.Line2D at 0x1fb871abe80>]"
      ]
     },
     "execution_count": 85,
     "metadata": {},
     "output_type": "execute_result"
    },
    {
     "data": {
      "image/png": "[encoded data removed]",
      "text/plain": [
       "<Figure size 432x288 with 1 Axes>"
      ]
     },
     "metadata": {
      "needs_background": "light"
     },
     "output_type": "display_data"
    }
   ],
   "source": [
    "feature_number = [1,2,3,4,5,6]\n",
    "print(mse_for_each)\n",
    "plt.plot(feature_number, mse_for_each)"
   ]
  },
  {
   "cell_type": "code",
   "execution_count": null,
   "metadata": {},
   "outputs": [],
   "source": []
  }
 ],
 "metadata": {
  "kernelspec": {
   "display_name": "Python 3",
   "language": "python",
   "name": "python3"
  },
  "language_info": {
   "codemirror_mode": {
    "name": "ipython",
    "version": 3
   },
   "file_extension": ".py",
   "mimetype": "text/x-python",
   "name": "python",
   "nbconvert_exporter": "python",
   "pygments_lexer": "ipython3",
   "version": "3.8.6"
  }
 },
 "nbformat": 4,
 "nbformat_minor": 4
}
